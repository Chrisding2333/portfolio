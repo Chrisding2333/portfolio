{
 "cells": [
  {
   "cell_type": "code",
   "execution_count": 32,
   "id": "d0644295",
   "metadata": {},
   "outputs": [],
   "source": [
    "import pandas as pd\n",
    "import datetime\n",
    "import os"
   ]
  },
  {
   "cell_type": "code",
   "execution_count": 17,
   "id": "3249facf",
   "metadata": {},
   "outputs": [],
   "source": [
    "# def data_process(s_1, s_2):\n",
    "#     file_comment = pd.read_csv(s_1, encoding='ISO-8859-1')\n",
    "#     file_submission = pd.read_csv(s_2, encoding='ISO-8859-1')\n",
    "    \n",
    "#     if len(file_comment) == 0 and len(file_submission) == 0:\n",
    "#         return\n",
    "    \n",
    "#     selected_cols = ['author', 'subreddit', 'subreddit_id']\n",
    "#     if 'utc_datetime_str' in file_comment.columns:\n",
    "#         selected_cols.append('utc_datetime_str')\n",
    "\n",
    "#     file_comment = file_comment[selected_cols].sort_values('author')\n",
    "#     file_submission = file_submission[selected_cols].sort_values('author')\n",
    "\n",
    "#     s = file_comment.loc[0, 'subreddit'] if len(file_comment.index) != 0 else file_submission.loc[0, 'subreddit']\n",
    "#     s_id = file_comment.loc[0, 'subreddit_id'] if len(file_comment.index) != 0 else file_submission.loc[0, 'subreddit_id']\n",
    "    \n",
    "#     if 'utc_datetime_str' in file_comment.columns:\n",
    "#         x = datetime.datetime(2020, 11, 4)\n",
    "\n",
    "#         file_comment['utc_datetime_str'] = pd.to_datetime(file_comment['utc_datetime_str'], errors='coerce')\n",
    "#         file_submission['utc_datetime_str'] = pd.to_datetime(file_submission['utc_datetime_str'], errors='coerce')\n",
    "    \n",
    "#         file_comment = file_comment[(file_comment['author'] != '[deleted]') & \n",
    "#                                     (file_comment['utc_datetime_str'] < x) & \n",
    "#                                     (file_comment['utc_datetime_str'].notna())]\n",
    "#         file_submission = file_submission[(file_submission['author'] != '[deleted]') & \n",
    "#                                           (file_submission['utc_datetime_str'] < x) & \n",
    "#                                           (file_submission['utc_datetime_str'].notna())]\n",
    "#     else:\n",
    "#         file_comment = file_comment[file_comment['author'] != '[deleted]']\n",
    "#         file_submission = file_submission[file_submission['author'] != '[deleted]']\n",
    "\n",
    "#     file_new = pd.concat([file_comment, file_submission])\n",
    "    \n",
    "#     file_count = file_new.groupby('author').count().reset_index()\n",
    "\n",
    "#     file_output = file_count[['author', 'subreddit']]\n",
    "#     file_output = file_output.rename(columns = {'subreddit':'n_posts'})\n",
    "#     file_output['subreddit'] = s\n",
    "#     file_output['subreddit_id'] = s_id\n",
    "    \n",
    "#     name = '_'.join(s_1.split('_')[:-1]) + '_posts.csv'\n",
    "#     file_output.to_csv(name, index = False)"
   ]
  },
  {
   "cell_type": "code",
   "execution_count": 33,
   "id": "08f21b45",
   "metadata": {},
   "outputs": [],
   "source": [
    "def process_two(s_1, s_2):\n",
    "    file_comment = pd.read_csv(s_1, encoding='ISO-8859-1')\n",
    "    file_submission = pd.read_csv(s_2, encoding='ISO-8859-1')\n",
    "    file_title_comment = s_1.split('_')[0].lower()\n",
    "    \n",
    "    if len(file_comment) == 0 and len(file_submission) == 0:\n",
    "        return\n",
    "    \n",
    "    selected_cols = ['author', 'subreddit', 'subreddit_id']\n",
    "    if 'utc_datetime_str' in file_comment.columns:\n",
    "        selected_cols.append('utc_datetime_str')\n",
    "\n",
    "    file_comment = file_comment[selected_cols].sort_values('author', ignore_index = True)\n",
    "    file_submission = file_submission[selected_cols].sort_values('author', ignore_index = True)\n",
    "    \n",
    "    if 'utc_datetime_str' in file_comment.columns:\n",
    "        x = datetime.datetime(2020, 11, 4)\n",
    "\n",
    "        file_comment['utc_datetime_str'] = pd.to_datetime(file_comment['utc_datetime_str'], errors='coerce')\n",
    "        file_submission['utc_datetime_str'] = pd.to_datetime(file_submission['utc_datetime_str'], errors='coerce')\n",
    "    \n",
    "        file_comment = file_comment[(file_comment['author'] != '[deleted]') & \n",
    "                                    (file_comment['utc_datetime_str'] < x) & \n",
    "                                    (file_comment['utc_datetime_str'].notna())]\n",
    "        file_comment['subreddit'] = file_comment['subreddit'].apply(str.lower)\n",
    "        file_comment = file_comment[file_comment['subreddit'] == file_title_comment]\n",
    "        \n",
    "        file_submission = file_submission[(file_submission['author'] != '[deleted]') & \n",
    "                                          (file_submission['utc_datetime_str'] < x) & \n",
    "                                          (file_submission['utc_datetime_str'].notna())]\n",
    "        file_submission['subreddit'] = file_submission['subreddit'].apply(str.lower)\n",
    "        file_submission = file_submission[file_submission['subreddit'] == file_title_comment]\n",
    "\n",
    "    else:\n",
    "        file_comment = file_comment[file_comment['author'] != '[deleted]']\n",
    "        file_comment['subreddit'] = file_comment['subreddit'].apply(str.lower)\n",
    "        file_comment = file_comment[file_comment['subreddit'] == file_title_comment]\n",
    "        \n",
    "        file_submission = file_submission[file_submission['author'] != '[deleted]']\n",
    "        file_submission['subreddit'] = file_submission['subreddit'].apply(str.lower)\n",
    "        file_submission = file_submission[file_submission['subreddit'] == file_title_comment]\n",
    "        \n",
    "    file_new = pd.concat([file_comment, file_submission])\n",
    "    file_count = file_new.groupby('author').count().reset_index()\n",
    "    \n",
    "    file_output = file_count[['author', 'subreddit']]\n",
    "    file_output = file_output.rename(columns = {'subreddit':'n_posts'})\n",
    "    \n",
    "    most_common_subreddit = file_new.groupby('author')['subreddit'].agg(pd.Series.mode).reset_index()\n",
    "    most_common_subreddit_id = file_new.groupby('author')['subreddit_id'].agg(pd.Series.mode).reset_index()\n",
    "\n",
    "    file_output = pd.merge(file_output, most_common_subreddit, on='author')\n",
    "    file_output = pd.merge(file_output, most_common_subreddit_id, on='author')\n",
    "    name = '_'.join(s_1.split('_')[:-1]) + '_posts.csv'\n",
    "    file_output.to_csv(name, index = False)"
   ]
  },
  {
   "cell_type": "code",
   "execution_count": 18,
   "id": "4dd3b930",
   "metadata": {},
   "outputs": [
    {
     "data": {
      "text/html": [
       "<div>\n",
       "<style scoped>\n",
       "    .dataframe tbody tr th:only-of-type {\n",
       "        vertical-align: middle;\n",
       "    }\n",
       "\n",
       "    .dataframe tbody tr th {\n",
       "        vertical-align: top;\n",
       "    }\n",
       "\n",
       "    .dataframe thead th {\n",
       "        text-align: right;\n",
       "    }\n",
       "</style>\n",
       "<table border=\"1\" class=\"dataframe\">\n",
       "  <thead>\n",
       "    <tr style=\"text-align: right;\">\n",
       "      <th></th>\n",
       "      <th>file_name</th>\n",
       "    </tr>\n",
       "  </thead>\n",
       "  <tbody>\n",
       "    <tr>\n",
       "      <th>0</th>\n",
       "      <td>Nacogdoches_comments.csv</td>\n",
       "    </tr>\n",
       "    <tr>\n",
       "      <th>1</th>\n",
       "      <td>Nacogdoches_submissions.csv</td>\n",
       "    </tr>\n",
       "    <tr>\n",
       "      <th>2</th>\n",
       "      <td>nampa_comments.csv</td>\n",
       "    </tr>\n",
       "    <tr>\n",
       "      <th>3</th>\n",
       "      <td>nampa_submissions.csv</td>\n",
       "    </tr>\n",
       "    <tr>\n",
       "      <th>4</th>\n",
       "      <td>Nantucket_comments.csv</td>\n",
       "    </tr>\n",
       "    <tr>\n",
       "      <th>...</th>\n",
       "      <td>...</td>\n",
       "    </tr>\n",
       "    <tr>\n",
       "      <th>315</th>\n",
       "      <td>queens_submissions.csv</td>\n",
       "    </tr>\n",
       "    <tr>\n",
       "      <th>316</th>\n",
       "      <td>quinceyma_comments.csv</td>\n",
       "    </tr>\n",
       "    <tr>\n",
       "      <th>317</th>\n",
       "      <td>quinceyma_submissions.csv</td>\n",
       "    </tr>\n",
       "    <tr>\n",
       "      <th>318</th>\n",
       "      <td>quincy_comments.csv</td>\n",
       "    </tr>\n",
       "    <tr>\n",
       "      <th>319</th>\n",
       "      <td>quincy_submissions.csv</td>\n",
       "    </tr>\n",
       "  </tbody>\n",
       "</table>\n",
       "<p>320 rows × 1 columns</p>\n",
       "</div>"
      ],
      "text/plain": [
       "                       file_name\n",
       "0       Nacogdoches_comments.csv\n",
       "1    Nacogdoches_submissions.csv\n",
       "2             nampa_comments.csv\n",
       "3          nampa_submissions.csv\n",
       "4         Nantucket_comments.csv\n",
       "..                           ...\n",
       "315       queens_submissions.csv\n",
       "316       quinceyma_comments.csv\n",
       "317    quinceyma_submissions.csv\n",
       "318          quincy_comments.csv\n",
       "319       quincy_submissions.csv\n",
       "\n",
       "[320 rows x 1 columns]"
      ]
     },
     "execution_count": 18,
     "metadata": {},
     "output_type": "execute_result"
    }
   ],
   "source": [
    "#Get all csv files names\n",
    "current_directory = os.getcwd()\n",
    "\n",
    "files = []\n",
    "for i in os.listdir(current_directory):\n",
    "    if i.endswith('.csv'):\n",
    "        files.append(i)\n",
    "        \n",
    "file_names = pd.DataFrame({'file_name':files})\n",
    "file_names"
   ]
  },
  {
   "cell_type": "code",
   "execution_count": 19,
   "id": "a41d95c1",
   "metadata": {},
   "outputs": [
    {
     "name": "stdout",
     "output_type": "stream",
     "text": [
      "1\n",
      "2\n",
      "3\n",
      "4\n",
      "5\n",
      "6\n",
      "7\n",
      "8\n",
      "9\n",
      "10\n",
      "11\n"
     ]
    },
    {
     "name": "stderr",
     "output_type": "stream",
     "text": [
      "C:\\Users\\chris\\AppData\\Local\\Temp\\ipykernel_12484\\2513941790.py:2: DtypeWarning: Columns (1) have mixed types. Specify dtype option on import or set low_memory=False.\n",
      "  file_comment = pd.read_csv(s_1, encoding='ISO-8859-1')\n",
      "C:\\Users\\chris\\AppData\\Local\\Temp\\ipykernel_12484\\2513941790.py:3: DtypeWarning: Columns (8) have mixed types. Specify dtype option on import or set low_memory=False.\n",
      "  file_submission = pd.read_csv(s_2, encoding='ISO-8859-1')\n"
     ]
    },
    {
     "name": "stdout",
     "output_type": "stream",
     "text": [
      "12\n",
      "13\n",
      "14\n",
      "15\n",
      "16\n",
      "17\n",
      "18\n",
      "19\n",
      "20\n",
      "21\n",
      "22\n",
      "23\n",
      "24\n",
      "25\n",
      "26\n",
      "27\n",
      "28\n",
      "29\n",
      "30\n",
      "31\n",
      "32\n",
      "33\n",
      "34\n",
      "35\n",
      "36\n",
      "37\n",
      "38\n",
      "39\n",
      "40\n",
      "41\n",
      "42\n",
      "43\n",
      "44\n",
      "45\n",
      "46\n",
      "47\n",
      "48\n",
      "49\n",
      "50\n"
     ]
    },
    {
     "name": "stderr",
     "output_type": "stream",
     "text": [
      "C:\\Users\\chris\\AppData\\Local\\Temp\\ipykernel_12484\\2513941790.py:2: DtypeWarning: Columns (1) have mixed types. Specify dtype option on import or set low_memory=False.\n",
      "  file_comment = pd.read_csv(s_1, encoding='ISO-8859-1')\n"
     ]
    },
    {
     "name": "stdout",
     "output_type": "stream",
     "text": [
      "51\n",
      "52\n",
      "53\n",
      "54\n",
      "55\n"
     ]
    },
    {
     "name": "stderr",
     "output_type": "stream",
     "text": [
      "C:\\Users\\chris\\AppData\\Local\\Temp\\ipykernel_12484\\2513941790.py:2: DtypeWarning: Columns (1) have mixed types. Specify dtype option on import or set low_memory=False.\n",
      "  file_comment = pd.read_csv(s_1, encoding='ISO-8859-1')\n",
      "C:\\Users\\chris\\AppData\\Local\\Temp\\ipykernel_12484\\2513941790.py:3: DtypeWarning: Columns (8) have mixed types. Specify dtype option on import or set low_memory=False.\n",
      "  file_submission = pd.read_csv(s_2, encoding='ISO-8859-1')\n"
     ]
    },
    {
     "name": "stdout",
     "output_type": "stream",
     "text": [
      "56\n",
      "57\n",
      "58\n",
      "59\n",
      "60\n",
      "61\n",
      "62\n",
      "63\n",
      "64\n",
      "65\n"
     ]
    },
    {
     "name": "stderr",
     "output_type": "stream",
     "text": [
      "C:\\Users\\chris\\AppData\\Local\\Temp\\ipykernel_12484\\2513941790.py:2: DtypeWarning: Columns (1) have mixed types. Specify dtype option on import or set low_memory=False.\n",
      "  file_comment = pd.read_csv(s_1, encoding='ISO-8859-1')\n",
      "C:\\Users\\chris\\AppData\\Local\\Temp\\ipykernel_12484\\2513941790.py:3: DtypeWarning: Columns (8) have mixed types. Specify dtype option on import or set low_memory=False.\n",
      "  file_submission = pd.read_csv(s_2, encoding='ISO-8859-1')\n"
     ]
    },
    {
     "name": "stdout",
     "output_type": "stream",
     "text": [
      "66\n",
      "67\n",
      "68\n",
      "69\n",
      "70\n",
      "71\n",
      "72\n",
      "73\n",
      "74\n",
      "75\n",
      "76\n",
      "77\n",
      "78\n",
      "79\n",
      "80\n",
      "81\n",
      "82\n",
      "83\n",
      "84\n",
      "85\n",
      "86\n",
      "87\n",
      "88\n",
      "89\n",
      "90\n",
      "91\n",
      "92\n",
      "93\n",
      "94\n",
      "95\n",
      "96\n",
      "97\n",
      "98\n",
      "99\n",
      "100\n",
      "101\n",
      "102\n"
     ]
    },
    {
     "name": "stderr",
     "output_type": "stream",
     "text": [
      "C:\\Users\\chris\\AppData\\Local\\Temp\\ipykernel_12484\\2513941790.py:2: DtypeWarning: Columns (2) have mixed types. Specify dtype option on import or set low_memory=False.\n",
      "  file_comment = pd.read_csv(s_1, encoding='ISO-8859-1')\n",
      "C:\\Users\\chris\\AppData\\Local\\Temp\\ipykernel_12484\\2513941790.py:3: DtypeWarning: Columns (2) have mixed types. Specify dtype option on import or set low_memory=False.\n",
      "  file_submission = pd.read_csv(s_2, encoding='ISO-8859-1')\n"
     ]
    },
    {
     "name": "stdout",
     "output_type": "stream",
     "text": [
      "103\n",
      "104\n",
      "105\n",
      "106\n",
      "107\n",
      "108\n",
      "109\n",
      "110\n",
      "111\n",
      "112\n",
      "113\n",
      "114\n",
      "115\n",
      "116\n",
      "117\n",
      "118\n",
      "119\n",
      "120\n",
      "121\n",
      "122\n",
      "123\n",
      "124\n",
      "125\n",
      "126\n",
      "127\n",
      "128\n",
      "129\n",
      "130\n",
      "131\n",
      "132\n",
      "133\n",
      "134\n",
      "135\n",
      "136\n",
      "137\n",
      "138\n",
      "139\n",
      "140\n"
     ]
    },
    {
     "name": "stderr",
     "output_type": "stream",
     "text": [
      "C:\\Users\\chris\\AppData\\Local\\Temp\\ipykernel_12484\\2513941790.py:2: DtypeWarning: Columns (1) have mixed types. Specify dtype option on import or set low_memory=False.\n",
      "  file_comment = pd.read_csv(s_1, encoding='ISO-8859-1')\n",
      "C:\\Users\\chris\\AppData\\Local\\Temp\\ipykernel_12484\\2513941790.py:3: DtypeWarning: Columns (8) have mixed types. Specify dtype option on import or set low_memory=False.\n",
      "  file_submission = pd.read_csv(s_2, encoding='ISO-8859-1')\n"
     ]
    },
    {
     "name": "stdout",
     "output_type": "stream",
     "text": [
      "141\n",
      "142\n",
      "143\n",
      "144\n",
      "145\n",
      "146\n",
      "147\n",
      "148\n",
      "149\n",
      "150\n"
     ]
    },
    {
     "name": "stderr",
     "output_type": "stream",
     "text": [
      "C:\\Users\\chris\\AppData\\Local\\Temp\\ipykernel_12484\\2513941790.py:2: DtypeWarning: Columns (1) have mixed types. Specify dtype option on import or set low_memory=False.\n",
      "  file_comment = pd.read_csv(s_1, encoding='ISO-8859-1')\n",
      "C:\\Users\\chris\\AppData\\Local\\Temp\\ipykernel_12484\\2513941790.py:3: DtypeWarning: Columns (1,2,8) have mixed types. Specify dtype option on import or set low_memory=False.\n",
      "  file_submission = pd.read_csv(s_2, encoding='ISO-8859-1')\n"
     ]
    },
    {
     "name": "stdout",
     "output_type": "stream",
     "text": [
      "151\n",
      "152\n",
      "153\n",
      "154\n",
      "155\n",
      "156\n",
      "157\n",
      "158\n",
      "159\n",
      "160\n"
     ]
    }
   ],
   "source": [
    "#Process all csv files\n",
    "even = 0\n",
    "odd = 1\n",
    "count = 1\n",
    "while even < len(file_names) and odd < len(file_names):\n",
    "    s_1 = file_names.loc[even, 'file_name']\n",
    "    s_2 = file_names.loc[odd, 'file_name']\n",
    "    \n",
    "    #Check if one area has both comments and submissions\n",
    "    #If not, skip\n",
    "    two_files = True\n",
    "    if '_'.join(s_1.split('_')[:-1]) == '_'.join(s_2.split('_')[:-1]):\n",
    "        data_process(s_1, s_2)\n",
    "    else:\n",
    "        two_files = False\n",
    "        even += 1\n",
    "        odd += 1\n",
    "    \n",
    "    if two_files == True:\n",
    "        even += 2\n",
    "        odd += 2\n",
    "    \n",
    "    print(count)\n",
    "    count += 1"
   ]
  },
  {
   "cell_type": "code",
   "execution_count": 20,
   "id": "7922e642",
   "metadata": {},
   "outputs": [
    {
     "name": "stdout",
     "output_type": "stream",
     "text": [
      "quincy_comments.csv\n",
      "quincy_submissions.csv\n"
     ]
    }
   ],
   "source": [
    "print(s_1)\n",
    "print(s_2)"
   ]
  },
  {
   "cell_type": "code",
   "execution_count": 21,
   "id": "018ff9a5",
   "metadata": {},
   "outputs": [],
   "source": [
    "#Remove submission and comments files\n",
    "for i in os.listdir(current_directory):\n",
    "    if i.endswith('comments.csv') or i.endswith('submissions.csv'):\n",
    "        os.remove(i)"
   ]
  },
  {
   "cell_type": "code",
   "execution_count": 35,
   "id": "6e2ff60c",
   "metadata": {},
   "outputs": [
    {
     "name": "stdout",
     "output_type": "stream",
     "text": [
      "[('Bagdad_comments.csv', 'Bagdad_submissions.csv'), ('BakersfieldCA_comments.csv', 'BakersfieldCA_submissions.csv'), ('Bakersfield_comments.csv', 'Bakersfield_submissions.csv'), ('BaldwinCity_comments.csv', 'BaldwinCity_submissions.csv'), ('Bardstown_comments.csv', 'Bardstown_submissions.csv'), ('BarrowAK_comments.csv', 'BarrowAK_submissions.csv'), ('BartlettIllinois_comments.csv', 'BartlettIllinois_submissions.csv'), ('Batavia_comments.csv', 'Batavia_submissions.csv'), ('BatesvilleUnited_comments.csv', 'BatesvilleUnited_submissions.csv'), ('Batesville_comments.csv', 'Batesville_submissions.csv'), ('Bathgate_comments.csv', 'Bathgate_submissions.csv'), ('BayArea_comments.csv', 'BayArea_submissions.csv'), ('BayCityMichigan_comments.csv', 'BayCityMichigan_submissions.csv'), ('BayonneNJ_comments.csv', 'BayonneNJ_submissions.csv'), ('BeaumontCa_comments.csv', 'BeaumontCa_submissions.csv'), ('Beaumont_comments.csv', 'Beaumont_submissions.csv'), ('BeaverCounty_comments.csv', 'BeaverCounty_submissions.csv'), ('BeaverPA_comments.csv', 'BeaverPA_submissions.csv'), ('BeckleyOnReddit_comments.csv', 'BeckleyOnReddit_submissions.csv'), ('BelAirMD_comments.csv', 'BelAirMD_submissions.csv'), ('BellCountyTX_comments.csv', 'BellCountyTX_submissions.csv'), ('BellevueKY_comments.csv', 'BellevueKY_submissions.csv'), ('Belmar_comments.csv', 'Belmar_submissions.csv'), ('Beltsville_comments.csv', 'Beltsville_submissions.csv'), ('Bethalto_comments.csv', 'Bethalto_submissions.csv'), ('BethelAK_comments.csv', 'BethelAK_submissions.csv'), ('BeverlyBeach_comments.csv', 'BeverlyBeach_submissions.csv'), ('BigBear_comments.csv', 'BigBear_submissions.csv'), ('BigBendTX_comments.csv', 'BigBendTX_submissions.csv'), ('Bishop_comments.csv', 'Bishop_submissions.csv'), ('BismarckMandan_comments.csv', 'BismarckMandan_submissions.csv'), ('BlackstoneMA_comments.csv', 'BlackstoneMA_submissions.csv'), ('Blairstown_comments.csv', 'Blairstown_submissions.csv'), ('BlockIsland_comments.csv', 'BlockIsland_submissions.csv'), ('BloomfieldHills_comments.csv', 'BloomfieldHills_submissions.csv'), ('BloomfieldNM_comments.csv', 'BloomfieldNM_submissions.csv'), ('Bloomington_Ca_comments.csv', 'Bloomington_Ca_submissions.csv'), ('Bloomsburg_comments.csv', 'Bloomsburg_submissions.csv'), ('Bluemtn_comments.csv', 'Bluemtn_submissions.csv'), ('BonAir_comments.csv', 'BonAir_submissions.csv'), ('BonnydoonCA_comments.csv', 'BonnydoonCA_submissions.csv'), ('BordentownNJ_comments.csv', 'BordentownNJ_submissions.csv'), ('BoulderCreek_comments.csv', 'BoulderCreek_submissions.csv'), ('Brea_comments.csv', 'Brea_submissions.csv'), ('Breckenridge_comments.csv', 'Breckenridge_submissions.csv'), ('BridgeportCT_comments.csv', 'BridgeportCT_submissions.csv'), ('Bridgeton_comments.csv', 'Bridgeton_submissions.csv'), ('Brillion_comments.csv', 'Brillion_submissions.csv'), ('BroadBrookCT_comments.csv', 'BroadBrookCT_submissions.csv'), ('Brookhaven_comments.csv', 'Brookhaven_submissions.csv'), ('Brookings_comments.csv', 'Brookings_submissions.csv'), ('Broomfield_comments.csv', 'Broomfield_submissions.csv'), ('Brownsville_comments.csv', 'Brownsville_submissions.csv'), ('Brownwood_Texas_comments.csv', 'Brownwood_Texas_submissions.csv'), ('BrunswickMD_comments.csv', 'BrunswickMD_submissions.csv'), ('BuenaPark_comments.csv', 'BuenaPark_submissions.csv'), ('BuffaloGrove_comments.csv', 'BuffaloGrove_submissions.csv'), ('BunkerMissouri_comments.csv', 'BunkerMissouri_submissions.csv'), ('BurlingtonNC_comments.csv', 'BurlingtonNC_submissions.csv'), ('Burlingtoniowa_comments.csv', 'Burlingtoniowa_submissions.csv'), ('ButlerPA_comments.csv', 'ButlerPA_submissions.csv'), ('bainbridgeisland_comments.csv', 'bainbridgeisland_submissions.csv'), ('baldwincountyal_comments.csv', 'baldwincountyal_submissions.csv'), ('baltimore_comments.csv', 'baltimore_submissions.csv'), ('bangorme_comments.csv', 'bangorme_submissions.csv'), ('barre_comments.csv', 'barre_submissions.csv'), ('barringtonil_comments.csv', 'barringtonil_submissions.csv'), ('barrowcounty_comments.csv', 'barrowcounty_submissions.csv'), ('bartlett_comments.csv', 'bartlett_submissions.csv'), ('bastroptx_comments.csv', 'bastroptx_submissions.csv'), ('batonrouge_comments.csv', 'batonrouge_submissions.csv'), ('battlecreek_comments.csv', 'battlecreek_submissions.csv'), ('baxtersprings_comments.csv', 'baxtersprings_submissions.csv'), ('baycitytx_comments.csv', 'baycitytx_submissions.csv'), ('baylortn_comments.csv', 'baylortn_submissions.csv'), ('bayridge_comments.csv', 'bayridge_submissions.csv'), ('baytown_comments.csv', 'baytown_submissions.csv'), ('bayview_comments.csv', 'bayview_submissions.csv'), ('bcstx_comments.csv', 'bcstx_submissions.csv'), ('beacon_comments.csv', 'beacon_submissions.csv'), ('beaconny_comments.csv', 'beaconny_submissions.csv'), ('beaufort_comments.csv', 'beaufort_submissions.csv'), ('beavercreek_comments.csv', 'beavercreek_submissions.csv'), ('beavercreekoh_comments.csv', 'beavercreekoh_submissions.csv'), ('beaverton_comments.csv', 'beaverton_submissions.csv'), ('bedford_comments.csv', 'bedford_submissions.csv'), ('beggs_comments.csv', 'beggs_submissions.csv'), ('bellbrook_comments.csv', 'bellbrook_submissions.csv'), ('bellechasse_comments.csv', 'bellechasse_submissions.csv'), ('belleview_comments.csv', 'belleview_submissions.csv'), ('bellevilleIL_comments.csv', 'bellevilleIL_submissions.csv'), ('bellevue_comments.csv', 'bellevue_submissions.csv'), ('bellevuewa_comments.csv', 'bellevuewa_submissions.csv'), ('bellingham_comments.csv', 'bellingham_submissions.csv'), ('bellowsfalls_comments.csv', 'bellowsfalls_submissions.csv'), ('belmontca_comments.csv', 'belmontca_submissions.csv'), ('belmontshore_comments.csv', 'belmontshore_submissions.csv'), ('beloitwisconsin_comments.csv', 'beloitwisconsin_submissions.csv'), ('belton_comments.csv', 'belton_submissions.csv'), ('bemidji_comments.csv', 'bemidji_submissions.csv'), ('benbrook_comments.csv', 'benbrook_submissions.csv'), ('bend_comments.csv', 'bend_submissions.csv'), ('bendoregon_comments.csv', 'bendoregon_submissions.csv'), ('benicia_comments.csv', 'benicia_submissions.csv'), ('bentonarkansas_comments.csv', 'bentonarkansas_submissions.csv'), ('bentonharbor_comments.csv', 'bentonharbor_submissions.csv'), ('bentonville_comments.csv', 'bentonville_submissions.csv'), ('bergencity_comments.csv', 'bergencity_submissions.csv'), ('berkeleyca_comments.csv', 'berkeleyca_submissions.csv'), ('berksco_comments.csv', 'berksco_submissions.csv'), ('bernalheights_comments.csv', 'bernalheights_submissions.csv'), ('bernardsville_comments.csv', 'bernardsville_submissions.csv'), ('berwyn_comments.csv', 'berwyn_submissions.csv'), ('bethelct_comments.csv', 'bethelct_submissions.csv'), ('bethelpark_comments.csv', 'bethelpark_submissions.csv'), ('bethesda_comments.csv', 'bethesda_submissions.csv'), ('bethlehem_comments.csv', 'bethlehem_submissions.csv'), ('beulah_comments.csv', 'beulah_submissions.csv'), ('beverlyhills_comments.csv', 'beverlyhills_submissions.csv'), ('bgohio_comments.csv', 'bgohio_submissions.csv'), ('bigisland_comments.csv', 'bigisland_submissions.csv'), ('bigsky_comments.csv', 'bigsky_submissions.csv'), ('bigsur_comments.csv', 'bigsur_submissions.csv'), ('billings_comments.csv', 'billings_submissions.csv'), ('biloxi_comments.csv', 'biloxi_submissions.csv'), ('binghamton_comments.csv', 'binghamton_submissions.csv'), ('binghamtonny_comments.csv', 'binghamtonny_submissions.csv'), ('birmingham_comments.csv', 'birmingham_submissions.csv'), ('birminghammi_comments.csv', 'birminghammi_submissions.csv'), ('bisbee_comments.csv', 'bisbee_submissions.csv'), ('bismarck_comments.csv', 'bismarck_submissions.csv'), ('bitterroot_comments.csv', 'bitterroot_submissions.csv'), ('blackhills_comments.csv', 'blackhills_submissions.csv'), ('blacksburg_comments.csv', 'blacksburg_submissions.csv'), ('blair_comments.csv', 'blair_submissions.csv'), ('blairstowne_comments.csv', 'blairstowne_submissions.csv'), ('blanchard_comments.csv', 'blanchard_submissions.csv'), ('bloomington_comments.csv', 'bloomington_submissions.csv'), ('bloomingtonil_comments.csv', 'bloomingtonil_submissions.csv'), ('bloomingtonmn_comments.csv', 'bloomingtonmn_submissions.csv'), ('bloomingtonnormal_comments.csv', 'bloomingtonnormal_submissions.csv'), ('blountsville_comments.csv', 'blountsville_submissions.csv'), ('bluemont_comments.csv', 'bluemont_submissions.csv'), ('bocachica_comments.csv', 'bocachica_submissions.csv'), ('boerne_comments.csv', 'boerne_submissions.csv'), ('bogalusa_comments.csv', 'bogalusa_submissions.csv'), ('boise_comments.csv', 'boise_submissions.csv'), ('bolivarmo_comments.csv', 'bolivarmo_submissions.csv'), ('bomontwv_comments.csv', 'bomontwv_submissions.csv'), ('boone_comments.csv', 'boone_submissions.csv'), ('boonton_comments.csv', 'boonton_submissions.csv'), ('boredinnova_comments.csv', 'boredinnova_submissions.csv'), ('bossiercity_comments.csv', 'bossiercity_submissions.csv'), ('boston_comments.csv', 'boston_submissions.csv'), ('bostwick_comments.csv', 'bostwick_submissions.csv'), ('bothell_comments.csv', 'bothell_submissions.csv'), ('boulder_comments.csv', 'boulder_submissions.csv'), ('bouldercity_comments.csv', 'bouldercity_submissions.csv'), ('bowlinggreen_comments.csv', 'bowlinggreen_submissions.csv'), ('boyd_comments.csv', 'boyd_submissions.csv'), ('boylecounty_comments.csv', 'boylecounty_submissions.csv'), ('boyntonbeach_comments.csv', 'boyntonbeach_submissions.csv'), ('bozeman_comments.csv', 'bozeman_submissions.csv'), ('bradenton_comments.csv', 'bradenton_submissions.csv'), ('brainerd_comments.csv', 'brainerd_submissions.csv'), ('brandonFL_comments.csv', 'brandonFL_submissions.csv'), ('bransonmo_comments.csv', 'bransonmo_submissions.csv'), ('brazoriacounty_comments.csv', 'brazoriacounty_submissions.csv'), ('bremerton_comments.csv', 'bremerton_submissions.csv'), ('brevard_comments.csv', 'brevard_submissions.csv'), ('brevardfl_comments.csv', 'brevardfl_submissions.csv'), ('brewster_comments.csv', 'brewster_submissions.csv'), ('brightonma_comments.csv', 'brightonma_submissions.csv'), ('broadripple_comments.csv', 'broadripple_submissions.csv'), ('bronx_comments.csv', 'bronx_submissions.csv'), ('bronxville_comments.csv', 'bronxville_submissions.csv'), ('bronyisland_comments.csv', 'bronyisland_submissions.csv'), ('brookland_comments.csv', 'brookland_submissions.csv'), ('brookline_comments.csv', 'brookline_submissions.csv'), ('brooklyn_comments.csv', 'brooklyn_submissions.csv'), ('broward_comments.csv', 'broward_submissions.csv'), ('brysoncity_comments.csv', 'brysoncity_submissions.csv'), ('btv_comments.csv', 'btv_submissions.csv'), ('buchanan_comments.csv', 'buchanan_submissions.csv'), ('buckscountypa_comments.csv', 'buckscountypa_submissions.csv'), ('buffalo_comments.csv', 'buffalo_submissions.csv'), ('buffalominnesota_comments.csv', 'buffalominnesota_submissions.csv'), ('buffaloriver_comments.csv', 'buffaloriver_submissions.csv'), ('bullcity_comments.csv', 'bullcity_submissions.csv'), ('buncombe_comments.csv', 'buncombe_submissions.csv'), ('burbank_comments.csv', 'burbank_submissions.csv'), ('burien_comments.csv', 'burien_submissions.csv'), ('burleson_comments.csv', 'burleson_submissions.csv'), ('burlingame_comments.csv', 'burlingame_submissions.csv'), ('burlington_comments.csv', 'burlington_submissions.csv'), ('burlingtonma_comments.csv', 'burlingtonma_submissions.csv'), ('burlingtonvt_comments.csv', 'burlingtonvt_submissions.csv'), ('burnsvillemn_comments.csv', 'burnsvillemn_submissions.csv'), ('bushwick_comments.csv', 'bushwick_submissions.csv'), ('butte_comments.csv', 'butte_submissions.csv'), ('butus_comments.csv', 'butus_submissions.csv'), ('bville_comments.csv', 'bville_submissions.csv')]\n"
     ]
    }
   ],
   "source": [
    "import glob\n",
    "\n",
    "files = glob.glob('*.csv')\n",
    "\n",
    "comments = sorted([f for f in files if '_comment' in f])\n",
    "submissions = sorted([f for f in files if '_submission' in f])\n",
    "\n",
    "paired_files = list(zip(comments, submissions))"
   ]
  },
  {
   "cell_type": "code",
   "execution_count": 36,
   "id": "017669d4",
   "metadata": {},
   "outputs": [
    {
     "name": "stdout",
     "output_type": "stream",
     "text": [
      "Bagdad_comments.csv Bagdad_submissions.csv\n",
      "BakersfieldCA_comments.csv BakersfieldCA_submissions.csv\n",
      "Bakersfield_comments.csv Bakersfield_submissions.csv\n",
      "BaldwinCity_comments.csv BaldwinCity_submissions.csv\n",
      "Bardstown_comments.csv Bardstown_submissions.csv\n",
      "BarrowAK_comments.csv BarrowAK_submissions.csv\n",
      "BartlettIllinois_comments.csv BartlettIllinois_submissions.csv\n",
      "Batavia_comments.csv Batavia_submissions.csv\n",
      "BatesvilleUnited_comments.csv BatesvilleUnited_submissions.csv\n",
      "Batesville_comments.csv Batesville_submissions.csv\n",
      "Bathgate_comments.csv Bathgate_submissions.csv\n"
     ]
    },
    {
     "name": "stderr",
     "output_type": "stream",
     "text": [
      "C:\\Users\\chris\\AppData\\Local\\Temp\\ipykernel_12484\\1835853314.py:2: DtypeWarning: Columns (1) have mixed types. Specify dtype option on import or set low_memory=False.\n",
      "  file_comment = pd.read_csv(s_1, encoding='ISO-8859-1')\n",
      "C:\\Users\\chris\\AppData\\Local\\Temp\\ipykernel_12484\\1835853314.py:3: DtypeWarning: Columns (8) have mixed types. Specify dtype option on import or set low_memory=False.\n",
      "  file_submission = pd.read_csv(s_2, encoding='ISO-8859-1')\n"
     ]
    },
    {
     "name": "stdout",
     "output_type": "stream",
     "text": [
      "BayArea_comments.csv BayArea_submissions.csv\n",
      "BayCityMichigan_comments.csv BayCityMichigan_submissions.csv\n",
      "BayonneNJ_comments.csv BayonneNJ_submissions.csv\n",
      "BeaumontCa_comments.csv BeaumontCa_submissions.csv\n",
      "Beaumont_comments.csv Beaumont_submissions.csv\n",
      "BeaverCounty_comments.csv BeaverCounty_submissions.csv\n",
      "BeaverPA_comments.csv BeaverPA_submissions.csv\n",
      "BeckleyOnReddit_comments.csv BeckleyOnReddit_submissions.csv\n",
      "BelAirMD_comments.csv BelAirMD_submissions.csv\n",
      "BellCountyTX_comments.csv BellCountyTX_submissions.csv\n",
      "BellevueKY_comments.csv BellevueKY_submissions.csv\n",
      "Belmar_comments.csv Belmar_submissions.csv\n",
      "Beltsville_comments.csv Beltsville_submissions.csv\n",
      "Bethalto_comments.csv Bethalto_submissions.csv\n",
      "BethelAK_comments.csv BethelAK_submissions.csv\n",
      "BeverlyBeach_comments.csv BeverlyBeach_submissions.csv\n",
      "BigBear_comments.csv BigBear_submissions.csv\n",
      "BigBendTX_comments.csv BigBendTX_submissions.csv\n",
      "Bishop_comments.csv Bishop_submissions.csv\n",
      "BismarckMandan_comments.csv BismarckMandan_submissions.csv\n",
      "BlackstoneMA_comments.csv BlackstoneMA_submissions.csv\n",
      "Blairstown_comments.csv Blairstown_submissions.csv\n",
      "BlockIsland_comments.csv BlockIsland_submissions.csv\n",
      "BloomfieldHills_comments.csv BloomfieldHills_submissions.csv\n",
      "BloomfieldNM_comments.csv BloomfieldNM_submissions.csv\n",
      "Bloomington_Ca_comments.csv Bloomington_Ca_submissions.csv\n",
      "Bloomsburg_comments.csv Bloomsburg_submissions.csv\n",
      "Bluemtn_comments.csv Bluemtn_submissions.csv\n",
      "BonAir_comments.csv BonAir_submissions.csv\n",
      "BonnydoonCA_comments.csv BonnydoonCA_submissions.csv\n",
      "BordentownNJ_comments.csv BordentownNJ_submissions.csv\n",
      "BoulderCreek_comments.csv BoulderCreek_submissions.csv\n",
      "Brea_comments.csv Brea_submissions.csv\n",
      "Breckenridge_comments.csv Breckenridge_submissions.csv\n",
      "BridgeportCT_comments.csv BridgeportCT_submissions.csv\n",
      "Bridgeton_comments.csv Bridgeton_submissions.csv\n",
      "Brillion_comments.csv Brillion_submissions.csv\n",
      "BroadBrookCT_comments.csv BroadBrookCT_submissions.csv\n",
      "Brookhaven_comments.csv Brookhaven_submissions.csv\n",
      "Brookings_comments.csv Brookings_submissions.csv\n",
      "Broomfield_comments.csv Broomfield_submissions.csv\n",
      "Brownsville_comments.csv Brownsville_submissions.csv\n",
      "Brownwood_Texas_comments.csv Brownwood_Texas_submissions.csv\n",
      "BrunswickMD_comments.csv BrunswickMD_submissions.csv\n",
      "BuenaPark_comments.csv BuenaPark_submissions.csv\n",
      "BuffaloGrove_comments.csv BuffaloGrove_submissions.csv\n",
      "BunkerMissouri_comments.csv BunkerMissouri_submissions.csv\n",
      "BurlingtonNC_comments.csv BurlingtonNC_submissions.csv\n",
      "Burlingtoniowa_comments.csv Burlingtoniowa_submissions.csv\n",
      "ButlerPA_comments.csv ButlerPA_submissions.csv\n",
      "bainbridgeisland_comments.csv bainbridgeisland_submissions.csv\n",
      "baldwincountyal_comments.csv baldwincountyal_submissions.csv\n"
     ]
    },
    {
     "name": "stderr",
     "output_type": "stream",
     "text": [
      "C:\\Users\\chris\\AppData\\Local\\Temp\\ipykernel_12484\\1835853314.py:2: DtypeWarning: Columns (1) have mixed types. Specify dtype option on import or set low_memory=False.\n",
      "  file_comment = pd.read_csv(s_1, encoding='ISO-8859-1')\n",
      "C:\\Users\\chris\\AppData\\Local\\Temp\\ipykernel_12484\\1835853314.py:3: DtypeWarning: Columns (8) have mixed types. Specify dtype option on import or set low_memory=False.\n",
      "  file_submission = pd.read_csv(s_2, encoding='ISO-8859-1')\n"
     ]
    },
    {
     "name": "stdout",
     "output_type": "stream",
     "text": [
      "baltimore_comments.csv baltimore_submissions.csv\n",
      "bangorme_comments.csv bangorme_submissions.csv\n",
      "barre_comments.csv barre_submissions.csv\n",
      "barringtonil_comments.csv barringtonil_submissions.csv\n",
      "barrowcounty_comments.csv barrowcounty_submissions.csv\n",
      "bartlett_comments.csv bartlett_submissions.csv\n",
      "bastroptx_comments.csv bastroptx_submissions.csv\n"
     ]
    },
    {
     "name": "stderr",
     "output_type": "stream",
     "text": [
      "C:\\Users\\chris\\AppData\\Local\\Temp\\ipykernel_12484\\1835853314.py:2: DtypeWarning: Columns (1) have mixed types. Specify dtype option on import or set low_memory=False.\n",
      "  file_comment = pd.read_csv(s_1, encoding='ISO-8859-1')\n"
     ]
    },
    {
     "name": "stdout",
     "output_type": "stream",
     "text": [
      "batonrouge_comments.csv batonrouge_submissions.csv\n",
      "battlecreek_comments.csv battlecreek_submissions.csv\n",
      "baxtersprings_comments.csv baxtersprings_submissions.csv\n",
      "baycitytx_comments.csv baycitytx_submissions.csv\n",
      "baylortn_comments.csv baylortn_submissions.csv\n",
      "bayridge_comments.csv bayridge_submissions.csv\n",
      "baytown_comments.csv baytown_submissions.csv\n",
      "bayview_comments.csv bayview_submissions.csv\n",
      "bcstx_comments.csv bcstx_submissions.csv\n",
      "beacon_comments.csv beacon_submissions.csv\n",
      "beaconny_comments.csv beaconny_submissions.csv\n",
      "beaufort_comments.csv beaufort_submissions.csv\n",
      "beavercreek_comments.csv beavercreek_submissions.csv\n",
      "beavercreekoh_comments.csv beavercreekoh_submissions.csv\n",
      "beaverton_comments.csv beaverton_submissions.csv\n",
      "bedford_comments.csv bedford_submissions.csv\n",
      "beggs_comments.csv beggs_submissions.csv\n",
      "bellbrook_comments.csv bellbrook_submissions.csv\n",
      "bellechasse_comments.csv bellechasse_submissions.csv\n",
      "belleview_comments.csv belleview_submissions.csv\n",
      "bellevilleIL_comments.csv bellevilleIL_submissions.csv\n",
      "bellevue_comments.csv bellevue_submissions.csv\n",
      "bellevuewa_comments.csv bellevuewa_submissions.csv\n"
     ]
    },
    {
     "name": "stderr",
     "output_type": "stream",
     "text": [
      "C:\\Users\\chris\\AppData\\Local\\Temp\\ipykernel_12484\\1835853314.py:2: DtypeWarning: Columns (1) have mixed types. Specify dtype option on import or set low_memory=False.\n",
      "  file_comment = pd.read_csv(s_1, encoding='ISO-8859-1')\n"
     ]
    },
    {
     "name": "stdout",
     "output_type": "stream",
     "text": [
      "bellingham_comments.csv bellingham_submissions.csv\n",
      "bellowsfalls_comments.csv bellowsfalls_submissions.csv\n",
      "belmontca_comments.csv belmontca_submissions.csv\n",
      "belmontshore_comments.csv belmontshore_submissions.csv\n",
      "beloitwisconsin_comments.csv beloitwisconsin_submissions.csv\n",
      "belton_comments.csv belton_submissions.csv\n",
      "bemidji_comments.csv bemidji_submissions.csv\n",
      "benbrook_comments.csv benbrook_submissions.csv\n",
      "bend_comments.csv bend_submissions.csv\n",
      "bendoregon_comments.csv bendoregon_submissions.csv\n",
      "benicia_comments.csv benicia_submissions.csv\n",
      "bentonarkansas_comments.csv bentonarkansas_submissions.csv\n",
      "bentonharbor_comments.csv bentonharbor_submissions.csv\n",
      "bentonville_comments.csv bentonville_submissions.csv\n",
      "bergencity_comments.csv bergencity_submissions.csv\n",
      "berkeleyca_comments.csv berkeleyca_submissions.csv\n",
      "berksco_comments.csv berksco_submissions.csv\n",
      "bernalheights_comments.csv bernalheights_submissions.csv\n",
      "bernardsville_comments.csv bernardsville_submissions.csv\n",
      "berwyn_comments.csv berwyn_submissions.csv\n",
      "bethelct_comments.csv bethelct_submissions.csv\n",
      "bethelpark_comments.csv bethelpark_submissions.csv\n",
      "bethesda_comments.csv bethesda_submissions.csv\n",
      "bethlehem_comments.csv bethlehem_submissions.csv\n",
      "beulah_comments.csv beulah_submissions.csv\n",
      "beverlyhills_comments.csv beverlyhills_submissions.csv\n",
      "bgohio_comments.csv bgohio_submissions.csv\n",
      "bigisland_comments.csv bigisland_submissions.csv\n",
      "bigsky_comments.csv bigsky_submissions.csv\n",
      "bigsur_comments.csv bigsur_submissions.csv\n",
      "billings_comments.csv billings_submissions.csv\n",
      "biloxi_comments.csv biloxi_submissions.csv\n",
      "binghamton_comments.csv binghamton_submissions.csv\n",
      "binghamtonny_comments.csv binghamtonny_submissions.csv\n"
     ]
    },
    {
     "name": "stderr",
     "output_type": "stream",
     "text": [
      "C:\\Users\\chris\\AppData\\Local\\Temp\\ipykernel_12484\\1835853314.py:2: DtypeWarning: Columns (2) have mixed types. Specify dtype option on import or set low_memory=False.\n",
      "  file_comment = pd.read_csv(s_1, encoding='ISO-8859-1')\n"
     ]
    },
    {
     "name": "stdout",
     "output_type": "stream",
     "text": [
      "birmingham_comments.csv birmingham_submissions.csv\n",
      "birminghammi_comments.csv birminghammi_submissions.csv\n",
      "bisbee_comments.csv bisbee_submissions.csv\n",
      "bismarck_comments.csv bismarck_submissions.csv\n",
      "bitterroot_comments.csv bitterroot_submissions.csv\n",
      "blackhills_comments.csv blackhills_submissions.csv\n",
      "blacksburg_comments.csv blacksburg_submissions.csv\n",
      "blair_comments.csv blair_submissions.csv\n",
      "blairstowne_comments.csv blairstowne_submissions.csv\n",
      "blanchard_comments.csv blanchard_submissions.csv\n"
     ]
    },
    {
     "name": "stderr",
     "output_type": "stream",
     "text": [
      "C:\\Users\\chris\\AppData\\Local\\Temp\\ipykernel_12484\\1835853314.py:2: DtypeWarning: Columns (1) have mixed types. Specify dtype option on import or set low_memory=False.\n",
      "  file_comment = pd.read_csv(s_1, encoding='ISO-8859-1')\n"
     ]
    },
    {
     "name": "stdout",
     "output_type": "stream",
     "text": [
      "bloomington_comments.csv bloomington_submissions.csv\n",
      "bloomingtonil_comments.csv bloomingtonil_submissions.csv\n",
      "bloomingtonmn_comments.csv bloomingtonmn_submissions.csv\n",
      "bloomingtonnormal_comments.csv bloomingtonnormal_submissions.csv\n",
      "blountsville_comments.csv blountsville_submissions.csv\n",
      "bluemont_comments.csv bluemont_submissions.csv\n",
      "bocachica_comments.csv bocachica_submissions.csv\n",
      "boerne_comments.csv boerne_submissions.csv\n",
      "bogalusa_comments.csv bogalusa_submissions.csv\n"
     ]
    },
    {
     "name": "stderr",
     "output_type": "stream",
     "text": [
      "C:\\Users\\chris\\AppData\\Local\\Temp\\ipykernel_12484\\1835853314.py:2: DtypeWarning: Columns (1) have mixed types. Specify dtype option on import or set low_memory=False.\n",
      "  file_comment = pd.read_csv(s_1, encoding='ISO-8859-1')\n"
     ]
    },
    {
     "name": "stdout",
     "output_type": "stream",
     "text": [
      "boise_comments.csv boise_submissions.csv\n",
      "bolivarmo_comments.csv bolivarmo_submissions.csv\n",
      "bomontwv_comments.csv bomontwv_submissions.csv\n",
      "boone_comments.csv boone_submissions.csv\n",
      "boonton_comments.csv boonton_submissions.csv\n",
      "boredinnova_comments.csv boredinnova_submissions.csv\n",
      "bossiercity_comments.csv bossiercity_submissions.csv\n"
     ]
    },
    {
     "name": "stderr",
     "output_type": "stream",
     "text": [
      "C:\\Users\\chris\\AppData\\Local\\Temp\\ipykernel_12484\\1835853314.py:2: DtypeWarning: Columns (1) have mixed types. Specify dtype option on import or set low_memory=False.\n",
      "  file_comment = pd.read_csv(s_1, encoding='ISO-8859-1')\n",
      "C:\\Users\\chris\\AppData\\Local\\Temp\\ipykernel_12484\\1835853314.py:3: DtypeWarning: Columns (1,2,8) have mixed types. Specify dtype option on import or set low_memory=False.\n",
      "  file_submission = pd.read_csv(s_2, encoding='ISO-8859-1')\n"
     ]
    },
    {
     "name": "stdout",
     "output_type": "stream",
     "text": [
      "boston_comments.csv boston_submissions.csv\n",
      "bostwick_comments.csv bostwick_submissions.csv\n",
      "bothell_comments.csv bothell_submissions.csv\n"
     ]
    },
    {
     "name": "stderr",
     "output_type": "stream",
     "text": [
      "C:\\Users\\chris\\AppData\\Local\\Temp\\ipykernel_12484\\1835853314.py:2: DtypeWarning: Columns (1) have mixed types. Specify dtype option on import or set low_memory=False.\n",
      "  file_comment = pd.read_csv(s_1, encoding='ISO-8859-1')\n"
     ]
    },
    {
     "name": "stdout",
     "output_type": "stream",
     "text": [
      "boulder_comments.csv boulder_submissions.csv\n",
      "bouldercity_comments.csv bouldercity_submissions.csv\n",
      "bowlinggreen_comments.csv bowlinggreen_submissions.csv\n",
      "boyd_comments.csv boyd_submissions.csv\n",
      "boylecounty_comments.csv boylecounty_submissions.csv\n",
      "boyntonbeach_comments.csv boyntonbeach_submissions.csv\n",
      "bozeman_comments.csv bozeman_submissions.csv\n",
      "bradenton_comments.csv bradenton_submissions.csv\n",
      "brainerd_comments.csv brainerd_submissions.csv\n",
      "brandonFL_comments.csv brandonFL_submissions.csv\n",
      "bransonmo_comments.csv bransonmo_submissions.csv\n",
      "brazoriacounty_comments.csv brazoriacounty_submissions.csv\n",
      "bremerton_comments.csv bremerton_submissions.csv\n",
      "brevard_comments.csv brevard_submissions.csv\n",
      "brevardfl_comments.csv brevardfl_submissions.csv\n",
      "brewster_comments.csv brewster_submissions.csv\n",
      "brightonma_comments.csv brightonma_submissions.csv\n",
      "broadripple_comments.csv broadripple_submissions.csv\n",
      "bronx_comments.csv bronx_submissions.csv\n",
      "bronxville_comments.csv bronxville_submissions.csv\n",
      "bronyisland_comments.csv bronyisland_submissions.csv\n",
      "brookland_comments.csv brookland_submissions.csv\n",
      "brookline_comments.csv brookline_submissions.csv\n"
     ]
    },
    {
     "name": "stderr",
     "output_type": "stream",
     "text": [
      "C:\\Users\\chris\\AppData\\Local\\Temp\\ipykernel_12484\\1835853314.py:2: DtypeWarning: Columns (1) have mixed types. Specify dtype option on import or set low_memory=False.\n",
      "  file_comment = pd.read_csv(s_1, encoding='ISO-8859-1')\n"
     ]
    },
    {
     "name": "stdout",
     "output_type": "stream",
     "text": [
      "brooklyn_comments.csv brooklyn_submissions.csv\n",
      "broward_comments.csv broward_submissions.csv\n",
      "brysoncity_comments.csv brysoncity_submissions.csv\n",
      "btv_comments.csv btv_submissions.csv\n",
      "buchanan_comments.csv buchanan_submissions.csv\n",
      "buckscountypa_comments.csv buckscountypa_submissions.csv\n"
     ]
    },
    {
     "name": "stderr",
     "output_type": "stream",
     "text": [
      "C:\\Users\\chris\\AppData\\Local\\Temp\\ipykernel_12484\\1835853314.py:2: DtypeWarning: Columns (1) have mixed types. Specify dtype option on import or set low_memory=False.\n",
      "  file_comment = pd.read_csv(s_1, encoding='ISO-8859-1')\n"
     ]
    },
    {
     "name": "stdout",
     "output_type": "stream",
     "text": [
      "buffalo_comments.csv buffalo_submissions.csv\n",
      "buffalominnesota_comments.csv buffalominnesota_submissions.csv\n",
      "buffaloriver_comments.csv buffaloriver_submissions.csv\n",
      "bullcity_comments.csv bullcity_submissions.csv\n",
      "buncombe_comments.csv buncombe_submissions.csv\n",
      "burbank_comments.csv burbank_submissions.csv\n",
      "burien_comments.csv burien_submissions.csv\n",
      "burleson_comments.csv burleson_submissions.csv\n",
      "burlingame_comments.csv burlingame_submissions.csv\n"
     ]
    },
    {
     "name": "stderr",
     "output_type": "stream",
     "text": [
      "C:\\Users\\chris\\AppData\\Local\\Temp\\ipykernel_12484\\1835853314.py:2: DtypeWarning: Columns (1) have mixed types. Specify dtype option on import or set low_memory=False.\n",
      "  file_comment = pd.read_csv(s_1, encoding='ISO-8859-1')\n"
     ]
    },
    {
     "name": "stdout",
     "output_type": "stream",
     "text": [
      "burlington_comments.csv burlington_submissions.csv\n",
      "burlingtonma_comments.csv burlingtonma_submissions.csv\n",
      "burlingtonvt_comments.csv burlingtonvt_submissions.csv\n",
      "burnsvillemn_comments.csv burnsvillemn_submissions.csv\n",
      "bushwick_comments.csv bushwick_submissions.csv\n",
      "butte_comments.csv butte_submissions.csv\n",
      "butus_comments.csv butus_submissions.csv\n",
      "bville_comments.csv bville_submissions.csv\n"
     ]
    }
   ],
   "source": [
    "for paired_file in paired_files: \n",
    "    s_1, s_2 = paired_file\n",
    "    process_two(s_1, s_2)\n",
    "    os.remove(s_1)\n",
    "    os.remove(s_2)\n",
    "    print(s_1, s_2)"
   ]
  },
  {
   "cell_type": "code",
   "execution_count": null,
   "id": "d3167f93",
   "metadata": {},
   "outputs": [],
   "source": [
    "for i in file_names['file_name']:\n",
    "    os.remove(i)"
   ]
  }
 ],
 "metadata": {
  "kernelspec": {
   "display_name": "Python 3 (ipykernel)",
   "language": "python",
   "name": "python3"
  },
  "language_info": {
   "codemirror_mode": {
    "name": "ipython",
    "version": 3
   },
   "file_extension": ".py",
   "mimetype": "text/x-python",
   "name": "python",
   "nbconvert_exporter": "python",
   "pygments_lexer": "ipython3",
   "version": "3.9.16"
  }
 },
 "nbformat": 4,
 "nbformat_minor": 5
}
